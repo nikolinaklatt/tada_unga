{
 "cells": [
  {
   "cell_type": "markdown",
   "metadata": {},
   "source": [
    "### Download File"
   ]
  },
  {
   "cell_type": "markdown",
   "metadata": {},
   "source": [
    "Jankin Mikhaylov, Slava; Baturo, Alexander; Dasandi, Niheer, 2017, \"United Nations General Debate Corpus\", https://doi.org/10.7910/DVN/0TJX8Y, Harvard Dataverse, V6; UNGDC_1970-2020.tar.gz \n",
    "https://dataverse.harvard.edu/file.xhtml?fileId=4590189&version=6.1"
   ]
  },
  {
   "cell_type": "code",
   "execution_count": 10,
   "metadata": {},
   "outputs": [
    {
     "name": "stderr",
     "output_type": "stream",
     "text": [
      "/Users/marco/opt/anaconda3/lib/python3.8/site-packages/urllib3/connectionpool.py:1013: InsecureRequestWarning: Unverified HTTPS request is being made to host 'dataverse.harvard.edu'. Adding certificate verification is strongly advised. See: https://urllib3.readthedocs.io/en/1.26.x/advanced-usage.html#ssl-warnings\n",
      "  warnings.warn(\n",
      "/Users/marco/opt/anaconda3/lib/python3.8/site-packages/urllib3/connectionpool.py:1013: InsecureRequestWarning: Unverified HTTPS request is being made to host 'dvn-cloud.s3.amazonaws.com'. Adding certificate verification is strongly advised. See: https://urllib3.readthedocs.io/en/1.26.x/advanced-usage.html#ssl-warnings\n",
      "  warnings.warn(\n"
     ]
    }
   ],
   "source": [
    "import requests\n",
    "\n",
    "# the `/` at the end is important\n",
    "url = 'https://dataverse.harvard.edu/api/access/datafile/4590189?gbrecs=true'\n",
    "\n",
    "headers = {\n",
    "    \"User-Agent\": \"Mozilla/5.0 (Macintosh; Intel Mac OS X 10_8_3) AppleWebKit/537.36 (KHTML, like Gecko) Chrome/54.0.2866.71 Safari/537.36\", \n",
    "  }\n",
    "\n",
    "r = requests.get(url, headers=headers, verify=False, allow_redirects=True)\n",
    "\n",
    "# get the filename from the headers `454698fd-6dfa-49a1-8096-bd9bb57b62ca_vertice.zip`\n",
    "filename = \"1970-2020.tar.gz\"\n",
    "\n",
    "with open(filename, 'wb') as f:\n",
    "  f.write(r.content)"
   ]
  },
  {
   "cell_type": "code",
   "execution_count": null,
   "metadata": {},
   "outputs": [],
   "source": [
    "import tarfile\n",
    "my_tar = tarfile.open('1970-2020.tar.gz')\n",
    "my_tar.extractall('./my_folder') # specify which folder to extract to\n",
    "my_tar.close()"
   ]
  },
  {
   "cell_type": "code",
   "execution_count": 2,
   "metadata": {},
   "outputs": [],
   "source": [
    "from io import StringIO\n",
    "import os \n",
    "import pandas as pd\n",
    "import re"
   ]
  },
  {
   "cell_type": "code",
   "execution_count": 100,
   "metadata": {},
   "outputs": [],
   "source": [
    "corpus = pd.DataFrame(columns=[\"info\", \"text\"]) \n",
    "df = pd.DataFrame(columns=[\"info\", \"text\"])\n",
    "path='/Volumes/GoogleDrive/My Drive/tada_unga/TXT'\n",
    "for (dirname, dirs, files) in os.walk(path):\n",
    "   for filename in files:\n",
    "        thefile = os.path.join(dirname,filename)\n",
    "        with open (thefile,encoding='utf8',errors='ignore') as fin:\n",
    "\n",
    "              doc=fin.read().strip('\\n\\t')\n",
    "              df[\"info\"] = pd.DataFrame(StringIO(filename))\n",
    "              df[\"text\"] = pd.DataFrame({doc})\n",
    "              corpus = pd.concat([corpus,df])"
   ]
  },
  {
   "cell_type": "code",
   "execution_count": 101,
   "metadata": {},
   "outputs": [],
   "source": [
    "corpus[[\"country\",\"session\",\"year\"]] = corpus[\"info\"].str.split('_',expand=True)\n"
   ]
  },
  {
   "cell_type": "code",
   "execution_count": 113,
   "metadata": {},
   "outputs": [],
   "source": [
    "corpus = corpus.drop(['info'], axis=1)"
   ]
  },
  {
   "cell_type": "code",
   "execution_count": 117,
   "metadata": {},
   "outputs": [],
   "source": [
    "corpus[\"year\"] = corpus[\"year\"].str.split('.',expand=True)[0]"
   ]
  },
  {
   "cell_type": "code",
   "execution_count": 119,
   "metadata": {},
   "outputs": [
    {
     "data": {
      "text/html": [
       "<div>\n",
       "<style scoped>\n",
       "    .dataframe tbody tr th:only-of-type {\n",
       "        vertical-align: middle;\n",
       "    }\n",
       "\n",
       "    .dataframe tbody tr th {\n",
       "        vertical-align: top;\n",
       "    }\n",
       "\n",
       "    .dataframe thead th {\n",
       "        text-align: right;\n",
       "    }\n",
       "</style>\n",
       "<table border=\"1\" class=\"dataframe\">\n",
       "  <thead>\n",
       "    <tr style=\"text-align: right;\">\n",
       "      <th></th>\n",
       "      <th>text</th>\n",
       "      <th>country</th>\n",
       "      <th>session</th>\n",
       "      <th>year</th>\n",
       "    </tr>\n",
       "  </thead>\n",
       "  <tbody>\n",
       "    <tr>\n",
       "      <th>0</th>\n",
       "      <td>﻿\\nIt is a pleasure, Sir, for my delegation to...</td>\n",
       "      <td>FJI</td>\n",
       "      <td>43</td>\n",
       "      <td>1988</td>\n",
       "    </tr>\n",
       "  </tbody>\n",
       "</table>\n",
       "</div>"
      ],
      "text/plain": [
       "                                                text country session  year\n",
       "0  ﻿\\nIt is a pleasure, Sir, for my delegation to...     FJI      43  1988"
      ]
     },
     "execution_count": 119,
     "metadata": {},
     "output_type": "execute_result"
    }
   ],
   "source": [
    "corpus.sample()"
   ]
  },
  {
   "cell_type": "code",
   "execution_count": 132,
   "metadata": {},
   "outputs": [],
   "source": [
    "corpus = corpus[(corpus.country != '.DS')&(corpus.country != '.Rhistory') & (corpus.country !='.Rapp.history')]"
   ]
  },
  {
   "cell_type": "code",
   "execution_count": 139,
   "metadata": {},
   "outputs": [
    {
     "data": {
      "text/html": [
       "<div>\n",
       "<style scoped>\n",
       "    .dataframe tbody tr th:only-of-type {\n",
       "        vertical-align: middle;\n",
       "    }\n",
       "\n",
       "    .dataframe tbody tr th {\n",
       "        vertical-align: top;\n",
       "    }\n",
       "\n",
       "    .dataframe thead th {\n",
       "        text-align: right;\n",
       "    }\n",
       "</style>\n",
       "<table border=\"1\" class=\"dataframe\">\n",
       "  <thead>\n",
       "    <tr style=\"text-align: right;\">\n",
       "      <th></th>\n",
       "      <th>text</th>\n",
       "      <th>country</th>\n",
       "      <th>session</th>\n",
       "      <th>year</th>\n",
       "    </tr>\n",
       "  </thead>\n",
       "  <tbody>\n",
       "    <tr>\n",
       "      <th>0</th>\n",
       "      <td>﻿I wish to begin my address to the Assembly, S...</td>\n",
       "      <td>SLV</td>\n",
       "      <td>45</td>\n",
       "      <td>1990</td>\n",
       "    </tr>\n",
       "    <tr>\n",
       "      <th>0</th>\n",
       "      <td>﻿I would like to begin today by\\ntelling the A...</td>\n",
       "      <td>USA</td>\n",
       "      <td>67</td>\n",
       "      <td>2012</td>\n",
       "    </tr>\n",
       "    <tr>\n",
       "      <th>0</th>\n",
       "      <td>I have to confess to my\\nusual excitement and ...</td>\n",
       "      <td>WSM</td>\n",
       "      <td>50</td>\n",
       "      <td>1995</td>\n",
       "    </tr>\n",
       "    <tr>\n",
       "      <th>0</th>\n",
       "      <td>﻿103.\\tOn behalf of our delegation I should li...</td>\n",
       "      <td>UKR</td>\n",
       "      <td>33</td>\n",
       "      <td>1978</td>\n",
       "    </tr>\n",
       "    <tr>\n",
       "      <th>0</th>\n",
       "      <td>﻿First of all, Sir, I offer you my delegation’...</td>\n",
       "      <td>VUT</td>\n",
       "      <td>51</td>\n",
       "      <td>1996</td>\n",
       "    </tr>\n",
       "  </tbody>\n",
       "</table>\n",
       "</div>"
      ],
      "text/plain": [
       "                                                text country session  year\n",
       "0  ﻿I wish to begin my address to the Assembly, S...     SLV      45  1990\n",
       "0  ﻿I would like to begin today by\\ntelling the A...     USA      67  2012\n",
       "0  I have to confess to my\\nusual excitement and ...     WSM      50  1995\n",
       "0  ﻿103.\\tOn behalf of our delegation I should li...     UKR      33  1978\n",
       "0  ﻿First of all, Sir, I offer you my delegation’...     VUT      51  1996"
      ]
     },
     "execution_count": 139,
     "metadata": {},
     "output_type": "execute_result"
    }
   ],
   "source": [
    "corpus.sample(5)"
   ]
  },
  {
   "cell_type": "code",
   "execution_count": 141,
   "metadata": {},
   "outputs": [
    {
     "data": {
      "text/plain": [
       "array(['BRB', 'IND', 'ARG', 'JOR', 'SWE', 'EST', 'MDG', 'BTN', 'NOR',\n",
       "       'TUN', 'NRU', 'SWZ', 'ALB', 'IDN', 'BOL', 'SRB', 'GNQ', 'SYR',\n",
       "       'RUS', 'DJI', 'GIN', 'BHS', 'DNK', 'MYS', 'BRN', 'BGD', 'CAF',\n",
       "       'COG', 'CYP', 'AUT', 'MEX', 'ATG', 'TJK', 'SLB', 'PHL', 'PRK',\n",
       "       'POL', 'LKA', 'DZA', 'CHN', 'BFA', 'PRT', 'CRI', 'ECU', 'GBR',\n",
       "       'BGR', 'GNB', 'PAN', 'URY', 'SUR', 'AFG', 'MDA', 'COM', 'TKM',\n",
       "       'ZMB', 'LUX', 'ZWE', 'VCT', 'COD', 'SMR', 'LIE', 'VEN', 'UZB',\n",
       "       'HUN', 'ISL', 'GRC', 'AZE', 'GUY', 'JPN', 'RWA', 'BEL', 'WSM',\n",
       "       'GHA', 'ARM', 'BLR', 'OMN', 'MNG', 'SSD', 'BDI', 'VNM', 'IRL',\n",
       "       'MUS', 'NER', 'MLI', 'PAK', 'FRA', 'FSM', 'TUR', 'PLW', 'BRA',\n",
       "       'LBY', 'EU', 'ETH', 'DOM', 'CZE', 'ESP', 'MRT', 'HTI', 'MAR',\n",
       "       'MHL', 'CAN', 'QAT', 'USA', 'ZAF', 'GTM', 'MOZ', 'SDN', 'BWA',\n",
       "       'TTO', 'GAB', 'BHR', 'AND', 'MCO', 'THA', 'PRY', 'HRV', 'VAT',\n",
       "       'NPL', 'CMR', 'LBR', 'UKR', 'LAO', 'STP', 'ROU', 'GRD', 'BEN',\n",
       "       'LCA', 'MWI', 'IRN', 'NAM', 'MNE', 'KWT', 'BIH', 'MLT', 'IRQ',\n",
       "       'JAM', 'SOM', 'YEM', 'DMA', 'NGA', 'SEN', 'ITA', 'AGO', 'KIR',\n",
       "       'LVA', 'TCD', 'ARE', 'BLZ', 'LSO', 'TZA', 'FJI', 'PNG', 'SVK',\n",
       "       'NIC', 'EGY', 'NZL', 'CPV', 'UGA', 'TGO', 'MMR', 'AUS', 'NLD',\n",
       "       'KGZ', 'LBN', 'SLE', 'MDV', 'KHM', 'KEN', 'KOR', 'SGP', 'MKD',\n",
       "       'HND', 'CIV', 'ERI', 'CUB', 'CHE', 'KNA', 'VUT', 'ISR', 'GEO',\n",
       "       'GMB', 'SLV', 'TUV', 'KAZ', 'FIN', 'SAU', 'SYC', 'LTU', 'SVN',\n",
       "       'PSE', 'PER', 'COL', 'DEU', 'TLS', 'CHL', 'TON', 'YUG', 'DDR',\n",
       "       'CSK', 'YDYE', 'POR'], dtype=object)"
      ]
     },
     "execution_count": 141,
     "metadata": {},
     "output_type": "execute_result"
    }
   ],
   "source": [
    "corpus[\"country\"].unique()"
   ]
  },
  {
   "cell_type": "code",
   "execution_count": 142,
   "metadata": {},
   "outputs": [
    {
     "data": {
      "text/plain": [
       "array(['2018', '1974', '1995', '2009', '1996', '1972', '2015', '1979',\n",
       "       '1998', '1983', '1980', '1989', '1971', '2016', '1993', '2007',\n",
       "       '2020', '1990', '2004', '2013', '1987', '2001', '2010', '1977',\n",
       "       '2002', '2017', '1970', '1981', '1982', '1973', '1997', '1984',\n",
       "       '2003', '1976', '2011', '2008', '1985', '2000', '1975', '1994',\n",
       "       '2012', '1986', '2019', '2005', '1991', '1988', '2006', '1978',\n",
       "       '1999', '1992', '2014'], dtype=object)"
      ]
     },
     "execution_count": 142,
     "metadata": {},
     "output_type": "execute_result"
    }
   ],
   "source": [
    "corpus[\"year\"].unique()"
   ]
  },
  {
   "cell_type": "code",
   "execution_count": 138,
   "metadata": {},
   "outputs": [],
   "source": [
    "corpus.to_csv(\"corpus.csv\", sep='\\t', encoding='utf-8')"
   ]
  }
 ],
 "metadata": {
  "kernelspec": {
   "display_name": "Python 3.8.12 ('base')",
   "language": "python",
   "name": "python3"
  },
  "language_info": {
   "codemirror_mode": {
    "name": "ipython",
    "version": 3
   },
   "file_extension": ".py",
   "mimetype": "text/x-python",
   "name": "python",
   "nbconvert_exporter": "python",
   "pygments_lexer": "ipython3",
   "version": "3.8.12"
  },
  "orig_nbformat": 4,
  "vscode": {
   "interpreter": {
    "hash": "82b2f7e49a54dfc9e19a85f649bd0ef29fcdbc801e6c42932c693ea93cc5c6ab"
   }
  }
 },
 "nbformat": 4,
 "nbformat_minor": 2
}
